{
 "cells": [
  {
   "cell_type": "code",
   "execution_count": 1,
   "metadata": {},
   "outputs": [
    {
     "name": "stdout",
     "output_type": "stream",
     "text": [
      "Extracting /tmp/data\\train-images-idx3-ubyte.gz\n",
      "Extracting /tmp/data\\train-labels-idx1-ubyte.gz\n",
      "Extracting /tmp/data\\t10k-images-idx3-ubyte.gz\n",
      "Extracting /tmp/data\\t10k-labels-idx1-ubyte.gz\n"
     ]
    }
   ],
   "source": [
    "import tensorflow as tf \n",
    "from tensorflow.python.ops import rnn, rnn_cell\n",
    "from tensorflow.examples.tutorials.mnist import input_data\n",
    "\n",
    "mnist = input_data.read_data_sets(\"/tmp/data\", one_hot = True)\n",
    "\n",
    "hm_epochs = 10\n",
    "n_classes = 10\n",
    "batch_size = 128\n",
    "no_chunks = 28\n",
    "chunk_size = 28\n",
    "rnn_size = 128\n",
    "\n",
    "x = tf.placeholder('float', [None, no_chunks, chunk_size])\n",
    "y = tf.placeholder('float')"
   ]
  },
  {
   "cell_type": "code",
   "execution_count": 2,
   "metadata": {},
   "outputs": [],
   "source": [
    "def recurrent_network_model(x):\n",
    "\n",
    "\tlayer = {'weight':tf.Variable(tf.random_normal([rnn_size, n_classes])), 'biases':tf.Variable(tf.random_normal([n_classes]))}\n",
    "\t\n",
    "\tx = tf.transpose(x, [1,0,2])\n",
    "\tx = tf.reshape(x, [-1, chunk_size])\n",
    "\tx = tf.split(x, no_chunks, 0)\n",
    "\n",
    "\t#See these two line in detail...\n",
    "\tlstm_cell = rnn_cell.BasicLSTMCell(rnn_size,state_is_tuple=True)\n",
    "\toutputs, states = rnn.static_rnn(lstm_cell, x, dtype=tf.float32)\n",
    "\n",
    "\t\n",
    "\toutput = tf.add( tf.matmul(outputs[-1], layer['weight']) , layer['biases'] )\n",
    "\n",
    "\treturn output\n"
   ]
  },
  {
   "cell_type": "code",
   "execution_count": 3,
   "metadata": {},
   "outputs": [
    {
     "name": "stdout",
     "output_type": "stream",
     "text": [
      "WARNING:tensorflow:From <ipython-input-3-4786a06f53ac>:4: softmax_cross_entropy_with_logits (from tensorflow.python.ops.nn_ops) is deprecated and will be removed in a future version.\n",
      "Instructions for updating:\n",
      "\n",
      "Future major versions of TensorFlow will allow gradients to flow\n",
      "into the labels input on backprop by default.\n",
      "\n",
      "See tf.nn.softmax_cross_entropy_with_logits_v2.\n",
      "\n",
      "-----------------------------------------------------\n",
      "Epoch 0 completed out of 10 loss: 197.32405891641974\n",
      "-----------------------------------------------------\n",
      "Epoch 1 completed out of 10 loss: 58.99093120358884\n",
      "-----------------------------------------------------\n",
      "Epoch 2 completed out of 10 loss: 40.85779417771846\n",
      "-----------------------------------------------------\n",
      "Epoch 3 completed out of 10 loss: 30.22560799960047\n",
      "-----------------------------------------------------\n",
      "Epoch 4 completed out of 10 loss: 24.84601019974798\n",
      "-----------------------------------------------------\n",
      "Epoch 5 completed out of 10 loss: 20.41830747295171\n",
      "-----------------------------------------------------\n",
      "Epoch 6 completed out of 10 loss: 18.780306024942547\n",
      "-----------------------------------------------------\n",
      "Epoch 7 completed out of 10 loss: 15.826100934413262\n",
      "-----------------------------------------------------\n",
      "Epoch 8 completed out of 10 loss: 13.84055577183608\n",
      "-----------------------------------------------------\n",
      "Epoch 9 completed out of 10 loss: 11.51262747781584\n",
      "Accuracy: 0.9844\n"
     ]
    }
   ],
   "source": [
    "def train_neural_network(x):\n",
    "\n",
    "\tprediction = recurrent_network_model(x)\n",
    "\tcost = tf.reduce_mean(tf.nn.softmax_cross_entropy_with_logits(logits=prediction, labels=y))\n",
    "\toptimizer = tf.train.AdamOptimizer().minimize(cost)\n",
    "\n",
    "\t\n",
    "\twith tf.Session() as sess:\n",
    "\t\tsess.run(tf.global_variables_initializer())\n",
    "\n",
    "\t\tfor epoch in range(hm_epochs):\n",
    "\t\t\tepoch_loss = 0\n",
    "\t\t\tfor _ in range(int(mnist.train.num_examples/batch_size)):\n",
    "                                \n",
    "\t\t\t\tepoch_x, epoch_y = mnist.train.next_batch(batch_size)\n",
    "\t\t\t\tepoch_x = epoch_x.reshape((batch_size,no_chunks,chunk_size))\n",
    "\n",
    "\t\t\t\t_, c = sess.run([optimizer, cost], feed_dict={x: epoch_x, y: epoch_y})\n",
    "\t\t\t\tepoch_loss += c\n",
    "\t\t\t\t#print('Epoch', epoch, 'completed out of',hm_epochs,'cost:',c)\n",
    "\n",
    "\n",
    "\t\t\tprint('-----------------------------------------------------')\n",
    "\t\t\tprint('Epoch', epoch, 'completed out of',hm_epochs,'loss:',epoch_loss)\n",
    "\t\t\t\n",
    "\t\tcorrect = tf.equal(tf.argmax(prediction, 1), tf.argmax(y, 1))\n",
    "\t\taccuracy = tf.reduce_mean(tf.cast(correct, 'float'))\n",
    "\t\tprint('Accuracy:',accuracy.eval({x:mnist.test.images.reshape(-1,no_chunks,chunk_size), y:mnist.test.labels}))\n",
    "\n",
    "train_neural_network(x)"
   ]
  },
  {
   "cell_type": "code",
   "execution_count": null,
   "metadata": {},
   "outputs": [],
   "source": []
  }
 ],
 "metadata": {
  "kernelspec": {
   "display_name": "Python 3",
   "language": "python",
   "name": "python3"
  },
  "language_info": {
   "codemirror_mode": {
    "name": "ipython",
    "version": 3
   },
   "file_extension": ".py",
   "mimetype": "text/x-python",
   "name": "python",
   "nbconvert_exporter": "python",
   "pygments_lexer": "ipython3",
   "version": "3.6.4"
  }
 },
 "nbformat": 4,
 "nbformat_minor": 2
}
